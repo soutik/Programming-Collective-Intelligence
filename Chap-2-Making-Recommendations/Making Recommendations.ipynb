{
 "cells": [
  {
   "cell_type": "markdown",
   "metadata": {},
   "source": [
    "# Making Recommendations\n",
    "\n",
    "**Author : Soutik Chakraborty**\n",
    "\n",
    "This is code from Chapter 2: Making Recommendations. \n",
    "\n",
    "The code for the excercise is in another jupter notebook named <b>Making Recommendations - Excercise</b>"
   ]
  },
  {
   "cell_type": "markdown",
   "metadata": {},
   "source": [
    "## Critics Data\n",
    "\n",
    "Below is a nested dictionary, which has the scores of each critics out of 5 for a variety of movies. You can add your ratings in the ditionary if needed."
   ]
  },
  {
   "cell_type": "code",
   "execution_count": 1,
   "metadata": {},
   "outputs": [],
   "source": [
    "# A dictionary of movie critics and their ratings of a small\n",
    "# set of movies\n",
    "critics={'Lisa Rose': {'Lady in the Water': 2.5, 'Snakes on a Plane': 3.5,\n",
    " 'Just My Luck': 3.0, 'Superman Returns': 3.5, 'You, Me and Dupree': 2.5,\n",
    " 'The Night Listener': 3.0},\n",
    "'Gene Seymour': {'Lady in the Water': 3.0, 'Snakes on a Plane': 3.5,\n",
    " 'Just My Luck': 1.5, 'Superman Returns': 5.0, 'The Night Listener': 3.0,\n",
    " 'You, Me and Dupree': 3.5},\n",
    "'Michael Phillips': {'Lady in the Water': 2.5, 'Snakes on a Plane': 3.0,\n",
    " 'Superman Returns': 3.5, 'The Night Listener': 4.0},\n",
    "'Claudia Puig': {'Snakes on a Plane': 3.5, 'Just My Luck': 3.0,\n",
    " 'The Night Listener': 4.5, 'Superman Returns': 4.0,\n",
    " 'You, Me and Dupree': 2.5},\n",
    "'Mick LaSalle': {'Lady in the Water': 3.0, 'Snakes on a Plane': 4.0,\n",
    " 'Just My Luck': 2.0, 'Superman Returns': 3.0, 'The Night Listener': 3.0,\n",
    " 'You, Me and Dupree': 2.0},\n",
    "'Jack Matthews': {'Lady in the Water': 3.0, 'Snakes on a Plane': 4.0,\n",
    " 'The Night Listener': 3.0, 'Superman Returns': 5.0, 'You, Me and Dupree': 3.5},\n",
    "'Toby': {'Snakes on a Plane':4.5,'You, Me and Dupree':1.0,'Superman Returns':4.0}}"
   ]
  },
  {
   "cell_type": "markdown",
   "metadata": {},
   "source": [
    "## Euclidean Distance\n",
    "\n",
    "This function takes the critics dict and 2 critics names as inputs and returns the euclidean distance between the two critics. The distance is calculated by measuring the distance between the common movie ratings between the critics"
   ]
  },
  {
   "cell_type": "code",
   "execution_count": 2,
   "metadata": {},
   "outputs": [],
   "source": [
    "from math import sqrt\n",
    "from pprint import pprint\n",
    "\n",
    "# Returns a distance-based similarity score for person1 and person2\n",
    "def sim_distance(prefs, person1, person2):\n",
    "    # Get the list of shared_items\n",
    "    si={}\n",
    "    for item in prefs[person1]:\n",
    "        if item in prefs[person2]:\n",
    "            si[item] = 1\n",
    "\n",
    "    # if they have no ratings in common, return 0\n",
    "    if len(si) == 0: \n",
    "        return 0\n",
    "\n",
    "    # Add up the squares of all the differences\n",
    "    sum_of_squares = 0\n",
    "    for item in si:\n",
    "        sum_of_squares = sum_of_squares + pow(prefs[person1][item] - prefs[person2][item], 2)\n",
    "\n",
    "    return 1/(1+sqrt(sum_of_squares))"
   ]
  },
  {
   "cell_type": "code",
   "execution_count": 3,
   "metadata": {},
   "outputs": [
    {
     "name": "stdout",
     "output_type": "stream",
     "text": [
      "0.294298055086\n"
     ]
    }
   ],
   "source": [
    "print sim_distance(critics, 'Lisa Rose','Gene Seymour')"
   ]
  },
  {
   "cell_type": "markdown",
   "metadata": {},
   "source": [
    "## Pearson's Corelation\n",
    "\n",
    "This function takes the critics dict and 2 critics names as inputs and returns the Pearson's Corelation between the two critics. The corelation is calculated by measuring the distance between the common movie ratings between the critics"
   ]
  },
  {
   "cell_type": "code",
   "execution_count": 4,
   "metadata": {},
   "outputs": [],
   "source": [
    "def sim_pearson(prefs, person1, person2):\n",
    "    # Get the similar items\n",
    "    si = {}\n",
    "    for item in prefs[person1]:\n",
    "        if item in prefs[person2]:\n",
    "            si[item] = 1\n",
    "    \n",
    "    # Find the number of similar items\n",
    "    n = len(si)\n",
    "    \n",
    "    # Return 0 if no common items\n",
    "    if n == 0:\n",
    "        return 0\n",
    "    \n",
    "    # Add up all the preferences\n",
    "    sum1 = sum([prefs[person1][item] for item in si])\n",
    "    sum2 = sum([prefs[person2][item] for item in si])\n",
    "    \n",
    "    # Sum up the squares\n",
    "    sum1sq = sum([pow(prefs[person1][item], 2) for item in si])\n",
    "    sum2sq = sum([pow(prefs[person2][item], 2) for item in si])\n",
    "    \n",
    "    #Sum up the products\n",
    "    pSum = sum([prefs[person1][items] * prefs[person2][items] for items in si])\n",
    "    \n",
    "    # Calculate Pearson's coef\n",
    "    num = pSum - (sum1 * sum2)/n\n",
    "    den = sqrt((sum1sq - pow(sum1, 2)/n) * (sum2sq - pow(sum2, 2)/n))\n",
    "    if den == 0:\n",
    "        return 0\n",
    "    else:\n",
    "        return num/den"
   ]
  },
  {
   "cell_type": "code",
   "execution_count": 5,
   "metadata": {},
   "outputs": [
    {
     "name": "stdout",
     "output_type": "stream",
     "text": [
      "0.396059017191\n"
     ]
    }
   ],
   "source": [
    "print sim_pearson(critics, 'Lisa Rose', 'Gene Seymour')"
   ]
  },
  {
   "cell_type": "markdown",
   "metadata": {},
   "source": [
    "## Similarity\n",
    "\n",
    "Finding out which critic matches closely to the other specified critic. We will be using the functions previously mentioned to calculate the similarty. If there are more functions specified they can be passed into the below function to calculate the similarity"
   ]
  },
  {
   "cell_type": "code",
   "execution_count": 6,
   "metadata": {},
   "outputs": [],
   "source": [
    "# Returns the best matches for person from the prefs dictionary.\n",
    "# Number of results and similarity function are optional params.\n",
    "def topMatches(prefs, person, n=5, similarity=sim_pearson):\n",
    "    scores=[(similarity(prefs, person, other), other) for other in prefs if other != person]\n",
    "\n",
    "    # Sort the list so the highest scores appear at the top\n",
    "    scores.sort()\n",
    "    scores.reverse()\n",
    "    return scores[0:n]"
   ]
  },
  {
   "cell_type": "code",
   "execution_count": 7,
   "metadata": {},
   "outputs": [
    {
     "name": "stdout",
     "output_type": "stream",
     "text": [
      "[(0.9912407071619299, 'Lisa Rose'),\n",
      " (0.9244734516419049, 'Mick LaSalle'),\n",
      " (0.8934051474415647, 'Claudia Puig')]\n"
     ]
    }
   ],
   "source": [
    "pprint(topMatches(prefs = critics, person = 'Toby', n=3))"
   ]
  },
  {
   "cell_type": "markdown",
   "metadata": {},
   "source": [
    "## Get Recommendations\n",
    "\n",
    "In the below section we will write a function to get recommendation for a person based on how close their ratings for a movie is with other critics\n"
   ]
  },
  {
   "cell_type": "code",
   "execution_count": 23,
   "metadata": {},
   "outputs": [],
   "source": [
    "def get_recommendations(perfs, person, similarity = sim_pearson):\n",
    "    totals = {}\n",
    "    simSums = {}\n",
    "    \n",
    "    for other in perfs:\n",
    "        # Get similarity between the \"person\" and others only if the person == other\n",
    "        if other != person:\n",
    "            sim = similarity(perfs, person, other)\n",
    "        else:\n",
    "            continue\n",
    "        \n",
    "        # Ignore similarity scors of <= 0\n",
    "        if sim >= 0:\n",
    "            for item in perfs[other]:\n",
    "                # Score only movies that \"person\" hasn't watched\n",
    "                if item not in perfs[person] or perfs[person][item] == 0:\n",
    "                    # Similarity * Scores\n",
    "                    totals.setdefault(item, 0)\n",
    "                    totals[item] += perfs[other][item] * sim\n",
    "                    # Get sum of simScores\n",
    "                    simSums.setdefault(item, 0)\n",
    "                    simSums[item] += sim\n",
    "                    \n",
    "    # Create the normalized list\n",
    "    rankings = [(total/simSums[item], item) for item, total in totals.items()]\n",
    "\n",
    "    # Return the sorted list\n",
    "    rankings.sort()\n",
    "    rankings.reverse()\n",
    "    return rankings"
   ]
  },
  {
   "cell_type": "code",
   "execution_count": 24,
   "metadata": {},
   "outputs": [
    {
     "data": {
      "text/plain": [
       "[(3.3477895267131013, 'The Night Listener'),\n",
       " (2.8325499182641614, 'Lady in the Water'),\n",
       " (2.5309807037655645, 'Just My Luck')]"
      ]
     },
     "execution_count": 24,
     "metadata": {},
     "output_type": "execute_result"
    }
   ],
   "source": [
    "get_recommendations(critics, \"Toby\")"
   ]
  },
  {
   "cell_type": "code",
   "execution_count": null,
   "metadata": {},
   "outputs": [],
   "source": []
  },
  {
   "cell_type": "code",
   "execution_count": null,
   "metadata": {},
   "outputs": [],
   "source": []
  }
 ],
 "metadata": {
  "kernelspec": {
   "display_name": "Python 2",
   "language": "python",
   "name": "python2"
  },
  "language_info": {
   "codemirror_mode": {
    "name": "ipython",
    "version": 2
   },
   "file_extension": ".py",
   "mimetype": "text/x-python",
   "name": "python",
   "nbconvert_exporter": "python",
   "pygments_lexer": "ipython2",
   "version": "2.7.10"
  }
 },
 "nbformat": 4,
 "nbformat_minor": 2
}
